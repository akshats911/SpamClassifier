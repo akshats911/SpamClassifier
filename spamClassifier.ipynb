{
  "nbformat": 4,
  "nbformat_minor": 0,
  "metadata": {
    "colab": {
      "provenance": [],
      "authorship_tag": "ABX9TyMEQrb6PPN4UO6S3498dCRO",
      "include_colab_link": true
    },
    "kernelspec": {
      "name": "python3",
      "display_name": "Python 3"
    },
    "language_info": {
      "name": "python"
    },
    "accelerator": "GPU",
    "gpuClass": "standard"
  },
  "cells": [
    {
      "cell_type": "markdown",
      "metadata": {
        "id": "view-in-github",
        "colab_type": "text"
      },
      "source": [
        "<a href=\"https://colab.research.google.com/github/akshats911/AI-project/blob/main/spamClassifier.ipynb\" target=\"_parent\"><img src=\"https://colab.research.google.com/assets/colab-badge.svg\" alt=\"Open In Colab\"/></a>"
      ]
    },
    {
      "cell_type": "code",
      "source": [
        "!pip install -q kaggle"
      ],
      "metadata": {
        "id": "g3iUeyAHa7HF"
      },
      "execution_count": 1,
      "outputs": []
    },
    {
      "cell_type": "code",
      "source": [
        "cd /root"
      ],
      "metadata": {
        "colab": {
          "base_uri": "https://localhost:8080/"
        },
        "id": "5BL2j6XAcvda",
        "outputId": "c88c0a06-c4d6-4e02-8fc8-f8d662761313"
      },
      "execution_count": 2,
      "outputs": [
        {
          "output_type": "stream",
          "name": "stdout",
          "text": [
            "/root\n"
          ]
        }
      ]
    },
    {
      "cell_type": "code",
      "source": [
        "!mkdir -p ~/.kaggle\n",
        "!cp kaggle/kaggle.json ~/.kaggle/\n",
        "!ls ~/.kaggle"
      ],
      "metadata": {
        "colab": {
          "base_uri": "https://localhost:8080/"
        },
        "id": "Z7-ddS7nczkF",
        "outputId": "8bf533e9-ff31-45c4-a651-a644c6970cb7"
      },
      "execution_count": 3,
      "outputs": [
        {
          "output_type": "stream",
          "name": "stdout",
          "text": [
            "kaggle.json\n"
          ]
        }
      ]
    },
    {
      "cell_type": "code",
      "source": [
        "!chmod 600 /root/.kaggle/kaggle.json"
      ],
      "metadata": {
        "id": "TGaL_S9Pfiw5"
      },
      "execution_count": 4,
      "outputs": []
    },
    {
      "cell_type": "code",
      "source": [
        "!kaggle datasets download uciml/sms-spam-collection-dataset"
      ],
      "metadata": {
        "colab": {
          "base_uri": "https://localhost:8080/"
        },
        "id": "G7qL5JZWc2Mm",
        "outputId": "5d098574-af5e-48be-c436-d2153e16b9ad"
      },
      "execution_count": 5,
      "outputs": [
        {
          "output_type": "stream",
          "name": "stdout",
          "text": [
            "sms-spam-collection-dataset.zip: Skipping, found more recently modified local copy (use --force to force download)\n"
          ]
        }
      ]
    },
    {
      "cell_type": "code",
      "source": [
        "!unzip -q sms-spam-collection-dataset.zip -d SMSSpamCollection"
      ],
      "metadata": {
        "id": "i0lXJprWe5cD",
        "colab": {
          "base_uri": "https://localhost:8080/"
        },
        "outputId": "16e9a805-c8f7-4e1b-d000-8fe6daee259b"
      },
      "execution_count": 6,
      "outputs": [
        {
          "output_type": "stream",
          "name": "stdout",
          "text": [
            "replace SMSSpamCollection/spam.csv? [y]es, [n]o, [A]ll, [N]one, [r]ename: n\n"
          ]
        }
      ]
    },
    {
      "cell_type": "code",
      "source": [
        "import pandas as pd\n",
        "messages = pd.read_csv(\"/root/SMSSpamCollection/spam.csv\",encoding='ISO-8859-1')\n",
        "messages.drop([\"Unnamed: 2\",\"Unnamed: 3\",\t\"Unnamed: 4\"], axis=1, inplace=True)\n",
        "messages.head(10)"
      ],
      "metadata": {
        "colab": {
          "base_uri": "https://localhost:8080/",
          "height": 363
        },
        "id": "xrn9eqpTgClC",
        "outputId": "ff5ada9a-5392-4099-ab00-f6eb76479260"
      },
      "execution_count": 7,
      "outputs": [
        {
          "output_type": "execute_result",
          "data": {
            "text/plain": [
              "     v1                                                 v2\n",
              "0   ham  Go until jurong point, crazy.. Available only ...\n",
              "1   ham                      Ok lar... Joking wif u oni...\n",
              "2  spam  Free entry in 2 a wkly comp to win FA Cup fina...\n",
              "3   ham  U dun say so early hor... U c already then say...\n",
              "4   ham  Nah I don't think he goes to usf, he lives aro...\n",
              "5  spam  FreeMsg Hey there darling it's been 3 week's n...\n",
              "6   ham  Even my brother is not like to speak with me. ...\n",
              "7   ham  As per your request 'Melle Melle (Oru Minnamin...\n",
              "8  spam  WINNER!! As a valued network customer you have...\n",
              "9  spam  Had your mobile 11 months or more? U R entitle..."
            ],
            "text/html": [
              "\n",
              "  <div id=\"df-28190058-2641-4761-9ca5-da748694589d\">\n",
              "    <div class=\"colab-df-container\">\n",
              "      <div>\n",
              "<style scoped>\n",
              "    .dataframe tbody tr th:only-of-type {\n",
              "        vertical-align: middle;\n",
              "    }\n",
              "\n",
              "    .dataframe tbody tr th {\n",
              "        vertical-align: top;\n",
              "    }\n",
              "\n",
              "    .dataframe thead th {\n",
              "        text-align: right;\n",
              "    }\n",
              "</style>\n",
              "<table border=\"1\" class=\"dataframe\">\n",
              "  <thead>\n",
              "    <tr style=\"text-align: right;\">\n",
              "      <th></th>\n",
              "      <th>v1</th>\n",
              "      <th>v2</th>\n",
              "    </tr>\n",
              "  </thead>\n",
              "  <tbody>\n",
              "    <tr>\n",
              "      <th>0</th>\n",
              "      <td>ham</td>\n",
              "      <td>Go until jurong point, crazy.. Available only ...</td>\n",
              "    </tr>\n",
              "    <tr>\n",
              "      <th>1</th>\n",
              "      <td>ham</td>\n",
              "      <td>Ok lar... Joking wif u oni...</td>\n",
              "    </tr>\n",
              "    <tr>\n",
              "      <th>2</th>\n",
              "      <td>spam</td>\n",
              "      <td>Free entry in 2 a wkly comp to win FA Cup fina...</td>\n",
              "    </tr>\n",
              "    <tr>\n",
              "      <th>3</th>\n",
              "      <td>ham</td>\n",
              "      <td>U dun say so early hor... U c already then say...</td>\n",
              "    </tr>\n",
              "    <tr>\n",
              "      <th>4</th>\n",
              "      <td>ham</td>\n",
              "      <td>Nah I don't think he goes to usf, he lives aro...</td>\n",
              "    </tr>\n",
              "    <tr>\n",
              "      <th>5</th>\n",
              "      <td>spam</td>\n",
              "      <td>FreeMsg Hey there darling it's been 3 week's n...</td>\n",
              "    </tr>\n",
              "    <tr>\n",
              "      <th>6</th>\n",
              "      <td>ham</td>\n",
              "      <td>Even my brother is not like to speak with me. ...</td>\n",
              "    </tr>\n",
              "    <tr>\n",
              "      <th>7</th>\n",
              "      <td>ham</td>\n",
              "      <td>As per your request 'Melle Melle (Oru Minnamin...</td>\n",
              "    </tr>\n",
              "    <tr>\n",
              "      <th>8</th>\n",
              "      <td>spam</td>\n",
              "      <td>WINNER!! As a valued network customer you have...</td>\n",
              "    </tr>\n",
              "    <tr>\n",
              "      <th>9</th>\n",
              "      <td>spam</td>\n",
              "      <td>Had your mobile 11 months or more? U R entitle...</td>\n",
              "    </tr>\n",
              "  </tbody>\n",
              "</table>\n",
              "</div>\n",
              "      <button class=\"colab-df-convert\" onclick=\"convertToInteractive('df-28190058-2641-4761-9ca5-da748694589d')\"\n",
              "              title=\"Convert this dataframe to an interactive table.\"\n",
              "              style=\"display:none;\">\n",
              "        \n",
              "  <svg xmlns=\"http://www.w3.org/2000/svg\" height=\"24px\"viewBox=\"0 0 24 24\"\n",
              "       width=\"24px\">\n",
              "    <path d=\"M0 0h24v24H0V0z\" fill=\"none\"/>\n",
              "    <path d=\"M18.56 5.44l.94 2.06.94-2.06 2.06-.94-2.06-.94-.94-2.06-.94 2.06-2.06.94zm-11 1L8.5 8.5l.94-2.06 2.06-.94-2.06-.94L8.5 2.5l-.94 2.06-2.06.94zm10 10l.94 2.06.94-2.06 2.06-.94-2.06-.94-.94-2.06-.94 2.06-2.06.94z\"/><path d=\"M17.41 7.96l-1.37-1.37c-.4-.4-.92-.59-1.43-.59-.52 0-1.04.2-1.43.59L10.3 9.45l-7.72 7.72c-.78.78-.78 2.05 0 2.83L4 21.41c.39.39.9.59 1.41.59.51 0 1.02-.2 1.41-.59l7.78-7.78 2.81-2.81c.8-.78.8-2.07 0-2.86zM5.41 20L4 18.59l7.72-7.72 1.47 1.35L5.41 20z\"/>\n",
              "  </svg>\n",
              "      </button>\n",
              "      \n",
              "  <style>\n",
              "    .colab-df-container {\n",
              "      display:flex;\n",
              "      flex-wrap:wrap;\n",
              "      gap: 12px;\n",
              "    }\n",
              "\n",
              "    .colab-df-convert {\n",
              "      background-color: #E8F0FE;\n",
              "      border: none;\n",
              "      border-radius: 50%;\n",
              "      cursor: pointer;\n",
              "      display: none;\n",
              "      fill: #1967D2;\n",
              "      height: 32px;\n",
              "      padding: 0 0 0 0;\n",
              "      width: 32px;\n",
              "    }\n",
              "\n",
              "    .colab-df-convert:hover {\n",
              "      background-color: #E2EBFA;\n",
              "      box-shadow: 0px 1px 2px rgba(60, 64, 67, 0.3), 0px 1px 3px 1px rgba(60, 64, 67, 0.15);\n",
              "      fill: #174EA6;\n",
              "    }\n",
              "\n",
              "    [theme=dark] .colab-df-convert {\n",
              "      background-color: #3B4455;\n",
              "      fill: #D2E3FC;\n",
              "    }\n",
              "\n",
              "    [theme=dark] .colab-df-convert:hover {\n",
              "      background-color: #434B5C;\n",
              "      box-shadow: 0px 1px 3px 1px rgba(0, 0, 0, 0.15);\n",
              "      filter: drop-shadow(0px 1px 2px rgba(0, 0, 0, 0.3));\n",
              "      fill: #FFFFFF;\n",
              "    }\n",
              "  </style>\n",
              "\n",
              "      <script>\n",
              "        const buttonEl =\n",
              "          document.querySelector('#df-28190058-2641-4761-9ca5-da748694589d button.colab-df-convert');\n",
              "        buttonEl.style.display =\n",
              "          google.colab.kernel.accessAllowed ? 'block' : 'none';\n",
              "\n",
              "        async function convertToInteractive(key) {\n",
              "          const element = document.querySelector('#df-28190058-2641-4761-9ca5-da748694589d');\n",
              "          const dataTable =\n",
              "            await google.colab.kernel.invokeFunction('convertToInteractive',\n",
              "                                                     [key], {});\n",
              "          if (!dataTable) return;\n",
              "\n",
              "          const docLinkHtml = 'Like what you see? Visit the ' +\n",
              "            '<a target=\"_blank\" href=https://colab.research.google.com/notebooks/data_table.ipynb>data table notebook</a>'\n",
              "            + ' to learn more about interactive tables.';\n",
              "          element.innerHTML = '';\n",
              "          dataTable['output_type'] = 'display_data';\n",
              "          await google.colab.output.renderOutput(dataTable, element);\n",
              "          const docLink = document.createElement('div');\n",
              "          docLink.innerHTML = docLinkHtml;\n",
              "          element.appendChild(docLink);\n",
              "        }\n",
              "      </script>\n",
              "    </div>\n",
              "  </div>\n",
              "  "
            ]
          },
          "metadata": {},
          "execution_count": 7
        }
      ]
    },
    {
      "cell_type": "code",
      "source": [
        "import re\n",
        "import nltk\n",
        "nltk.download()"
      ],
      "metadata": {
        "colab": {
          "base_uri": "https://localhost:8080/"
        },
        "id": "Q9ycsBHNg3U9",
        "outputId": "f85c7924-152d-4176-f866-dcde4aa1f465"
      },
      "execution_count": 8,
      "outputs": [
        {
          "name": "stdout",
          "output_type": "stream",
          "text": [
            "NLTK Downloader\n",
            "---------------------------------------------------------------------------\n",
            "    d) Download   l) List    u) Update   c) Config   h) Help   q) Quit\n",
            "---------------------------------------------------------------------------\n",
            "Downloader> d\n",
            "\n",
            "Download which package (l=list; x=cancel)?\n",
            "  Identifier> all\n"
          ]
        },
        {
          "output_type": "stream",
          "name": "stderr",
          "text": [
            "    Downloading collection 'all'\n",
            "       | \n",
            "       | Downloading package abc to /root/nltk_data...\n",
            "       |   Package abc is already up-to-date!\n",
            "       | Downloading package alpino to /root/nltk_data...\n",
            "       |   Package alpino is already up-to-date!\n",
            "       | Downloading package averaged_perceptron_tagger to\n",
            "       |     /root/nltk_data...\n",
            "       |   Package averaged_perceptron_tagger is already up-to-date!\n",
            "       | Downloading package averaged_perceptron_tagger_ru to\n",
            "       |     /root/nltk_data...\n",
            "       |   Package averaged_perceptron_tagger_ru is already up-to-\n",
            "       |       date!\n",
            "       | Downloading package basque_grammars to /root/nltk_data...\n",
            "       |   Package basque_grammars is already up-to-date!\n",
            "       | Downloading package biocreative_ppi to /root/nltk_data...\n",
            "       |   Package biocreative_ppi is already up-to-date!\n",
            "       | Downloading package bllip_wsj_no_aux to /root/nltk_data...\n",
            "       |   Package bllip_wsj_no_aux is already up-to-date!\n",
            "       | Downloading package book_grammars to /root/nltk_data...\n",
            "       |   Package book_grammars is already up-to-date!\n",
            "       | Downloading package brown to /root/nltk_data...\n",
            "       |   Package brown is already up-to-date!\n",
            "       | Downloading package brown_tei to /root/nltk_data...\n",
            "       |   Package brown_tei is already up-to-date!\n",
            "       | Downloading package cess_cat to /root/nltk_data...\n",
            "       |   Package cess_cat is already up-to-date!\n",
            "       | Downloading package cess_esp to /root/nltk_data...\n",
            "       |   Package cess_esp is already up-to-date!\n",
            "       | Downloading package chat80 to /root/nltk_data...\n",
            "       |   Package chat80 is already up-to-date!\n",
            "       | Downloading package city_database to /root/nltk_data...\n",
            "       |   Package city_database is already up-to-date!\n",
            "       | Downloading package cmudict to /root/nltk_data...\n",
            "       |   Package cmudict is already up-to-date!\n",
            "       | Downloading package comparative_sentences to\n",
            "       |     /root/nltk_data...\n",
            "       |   Package comparative_sentences is already up-to-date!\n",
            "       | Downloading package comtrans to /root/nltk_data...\n",
            "       |   Package comtrans is already up-to-date!\n",
            "       | Downloading package conll2000 to /root/nltk_data...\n",
            "       |   Package conll2000 is already up-to-date!\n",
            "       | Downloading package conll2002 to /root/nltk_data...\n",
            "       |   Package conll2002 is already up-to-date!\n",
            "       | Downloading package conll2007 to /root/nltk_data...\n",
            "       |   Package conll2007 is already up-to-date!\n",
            "       | Downloading package crubadan to /root/nltk_data...\n",
            "       |   Package crubadan is already up-to-date!\n",
            "       | Downloading package dependency_treebank to /root/nltk_data...\n",
            "       |   Package dependency_treebank is already up-to-date!\n",
            "       | Downloading package dolch to /root/nltk_data...\n",
            "       |   Package dolch is already up-to-date!\n",
            "       | Downloading package europarl_raw to /root/nltk_data...\n",
            "       |   Package europarl_raw is already up-to-date!\n",
            "       | Downloading package extended_omw to /root/nltk_data...\n",
            "       |   Package extended_omw is already up-to-date!\n",
            "       | Downloading package floresta to /root/nltk_data...\n",
            "       |   Package floresta is already up-to-date!\n",
            "       | Downloading package framenet_v15 to /root/nltk_data...\n",
            "       |   Package framenet_v15 is already up-to-date!\n",
            "       | Downloading package framenet_v17 to /root/nltk_data...\n",
            "       |   Package framenet_v17 is already up-to-date!\n",
            "       | Downloading package gazetteers to /root/nltk_data...\n",
            "       |   Package gazetteers is already up-to-date!\n",
            "       | Downloading package genesis to /root/nltk_data...\n",
            "       |   Package genesis is already up-to-date!\n",
            "       | Downloading package gutenberg to /root/nltk_data...\n",
            "       |   Package gutenberg is already up-to-date!\n",
            "       | Downloading package ieer to /root/nltk_data...\n",
            "       |   Package ieer is already up-to-date!\n",
            "       | Downloading package inaugural to /root/nltk_data...\n",
            "       |   Package inaugural is already up-to-date!\n",
            "       | Downloading package indian to /root/nltk_data...\n",
            "       |   Package indian is already up-to-date!\n",
            "       | Downloading package jeita to /root/nltk_data...\n",
            "       |   Package jeita is already up-to-date!\n",
            "       | Downloading package kimmo to /root/nltk_data...\n",
            "       |   Package kimmo is already up-to-date!\n",
            "       | Downloading package knbc to /root/nltk_data...\n",
            "       |   Package knbc is already up-to-date!\n",
            "       | Downloading package large_grammars to /root/nltk_data...\n",
            "       |   Package large_grammars is already up-to-date!\n",
            "       | Downloading package lin_thesaurus to /root/nltk_data...\n",
            "       |   Package lin_thesaurus is already up-to-date!\n",
            "       | Downloading package mac_morpho to /root/nltk_data...\n",
            "       |   Package mac_morpho is already up-to-date!\n",
            "       | Downloading package machado to /root/nltk_data...\n",
            "       |   Package machado is already up-to-date!\n",
            "       | Downloading package masc_tagged to /root/nltk_data...\n",
            "       |   Package masc_tagged is already up-to-date!\n",
            "       | Downloading package maxent_ne_chunker to /root/nltk_data...\n",
            "       |   Package maxent_ne_chunker is already up-to-date!\n",
            "       | Downloading package maxent_treebank_pos_tagger to\n",
            "       |     /root/nltk_data...\n",
            "       |   Package maxent_treebank_pos_tagger is already up-to-date!\n",
            "       | Downloading package moses_sample to /root/nltk_data...\n",
            "       |   Package moses_sample is already up-to-date!\n",
            "       | Downloading package movie_reviews to /root/nltk_data...\n",
            "       |   Package movie_reviews is already up-to-date!\n",
            "       | Downloading package mte_teip5 to /root/nltk_data...\n",
            "       |   Package mte_teip5 is already up-to-date!\n",
            "       | Downloading package mwa_ppdb to /root/nltk_data...\n",
            "       |   Package mwa_ppdb is already up-to-date!\n",
            "       | Downloading package names to /root/nltk_data...\n",
            "       |   Package names is already up-to-date!\n",
            "       | Downloading package nombank.1.0 to /root/nltk_data...\n",
            "       |   Package nombank.1.0 is already up-to-date!\n",
            "       | Downloading package nonbreaking_prefixes to\n",
            "       |     /root/nltk_data...\n",
            "       |   Package nonbreaking_prefixes is already up-to-date!\n",
            "       | Downloading package nps_chat to /root/nltk_data...\n",
            "       |   Package nps_chat is already up-to-date!\n",
            "       | Downloading package omw to /root/nltk_data...\n",
            "       |   Package omw is already up-to-date!\n",
            "       | Downloading package omw-1.4 to /root/nltk_data...\n",
            "       |   Package omw-1.4 is already up-to-date!\n",
            "       | Downloading package opinion_lexicon to /root/nltk_data...\n",
            "       |   Package opinion_lexicon is already up-to-date!\n",
            "       | Downloading package panlex_swadesh to /root/nltk_data...\n",
            "       |   Package panlex_swadesh is already up-to-date!\n",
            "       | Downloading package paradigms to /root/nltk_data...\n",
            "       |   Package paradigms is already up-to-date!\n",
            "       | Downloading package pe08 to /root/nltk_data...\n",
            "       |   Package pe08 is already up-to-date!\n",
            "       | Downloading package perluniprops to /root/nltk_data...\n",
            "       |   Package perluniprops is already up-to-date!\n",
            "       | Downloading package pil to /root/nltk_data...\n",
            "       |   Package pil is already up-to-date!\n",
            "       | Downloading package pl196x to /root/nltk_data...\n",
            "       |   Package pl196x is already up-to-date!\n",
            "       | Downloading package porter_test to /root/nltk_data...\n",
            "       |   Package porter_test is already up-to-date!\n",
            "       | Downloading package ppattach to /root/nltk_data...\n",
            "       |   Package ppattach is already up-to-date!\n",
            "       | Downloading package problem_reports to /root/nltk_data...\n",
            "       |   Package problem_reports is already up-to-date!\n",
            "       | Downloading package product_reviews_1 to /root/nltk_data...\n",
            "       |   Package product_reviews_1 is already up-to-date!\n",
            "       | Downloading package product_reviews_2 to /root/nltk_data...\n",
            "       |   Package product_reviews_2 is already up-to-date!\n",
            "       | Downloading package propbank to /root/nltk_data...\n",
            "       |   Package propbank is already up-to-date!\n",
            "       | Downloading package pros_cons to /root/nltk_data...\n",
            "       |   Package pros_cons is already up-to-date!\n",
            "       | Downloading package ptb to /root/nltk_data...\n",
            "       |   Package ptb is already up-to-date!\n",
            "       | Downloading package punkt to /root/nltk_data...\n",
            "       |   Package punkt is already up-to-date!\n",
            "       | Downloading package qc to /root/nltk_data...\n",
            "       |   Package qc is already up-to-date!\n",
            "       | Downloading package reuters to /root/nltk_data...\n",
            "       |   Package reuters is already up-to-date!\n",
            "       | Downloading package rslp to /root/nltk_data...\n",
            "       |   Package rslp is already up-to-date!\n",
            "       | Downloading package rte to /root/nltk_data...\n",
            "       |   Package rte is already up-to-date!\n",
            "       | Downloading package sample_grammars to /root/nltk_data...\n",
            "       |   Package sample_grammars is already up-to-date!\n",
            "       | Downloading package semcor to /root/nltk_data...\n",
            "       |   Package semcor is already up-to-date!\n",
            "       | Downloading package senseval to /root/nltk_data...\n",
            "       |   Package senseval is already up-to-date!\n",
            "       | Downloading package sentence_polarity to /root/nltk_data...\n",
            "       |   Package sentence_polarity is already up-to-date!\n",
            "       | Downloading package sentiwordnet to /root/nltk_data...\n",
            "       |   Package sentiwordnet is already up-to-date!\n",
            "       | Downloading package shakespeare to /root/nltk_data...\n",
            "       |   Package shakespeare is already up-to-date!\n",
            "       | Downloading package sinica_treebank to /root/nltk_data...\n",
            "       |   Package sinica_treebank is already up-to-date!\n",
            "       | Downloading package smultron to /root/nltk_data...\n",
            "       |   Package smultron is already up-to-date!\n",
            "       | Downloading package snowball_data to /root/nltk_data...\n",
            "       |   Package snowball_data is already up-to-date!\n",
            "       | Downloading package spanish_grammars to /root/nltk_data...\n",
            "       |   Package spanish_grammars is already up-to-date!\n",
            "       | Downloading package state_union to /root/nltk_data...\n",
            "       |   Package state_union is already up-to-date!\n",
            "       | Downloading package stopwords to /root/nltk_data...\n",
            "       |   Package stopwords is already up-to-date!\n",
            "       | Downloading package subjectivity to /root/nltk_data...\n",
            "       |   Package subjectivity is already up-to-date!\n",
            "       | Downloading package swadesh to /root/nltk_data...\n",
            "       |   Package swadesh is already up-to-date!\n",
            "       | Downloading package switchboard to /root/nltk_data...\n",
            "       |   Package switchboard is already up-to-date!\n",
            "       | Downloading package tagsets to /root/nltk_data...\n",
            "       |   Package tagsets is already up-to-date!\n",
            "       | Downloading package timit to /root/nltk_data...\n",
            "       |   Package timit is already up-to-date!\n",
            "       | Downloading package toolbox to /root/nltk_data...\n",
            "       |   Package toolbox is already up-to-date!\n",
            "       | Downloading package treebank to /root/nltk_data...\n",
            "       |   Package treebank is already up-to-date!\n",
            "       | Downloading package twitter_samples to /root/nltk_data...\n",
            "       |   Package twitter_samples is already up-to-date!\n",
            "       | Downloading package udhr to /root/nltk_data...\n",
            "       |   Package udhr is already up-to-date!\n",
            "       | Downloading package udhr2 to /root/nltk_data...\n",
            "       |   Package udhr2 is already up-to-date!\n",
            "       | Downloading package unicode_samples to /root/nltk_data...\n",
            "       |   Package unicode_samples is already up-to-date!\n",
            "       | Downloading package universal_tagset to /root/nltk_data...\n",
            "       |   Package universal_tagset is already up-to-date!\n",
            "       | Downloading package universal_treebanks_v20 to\n",
            "       |     /root/nltk_data...\n",
            "       |   Package universal_treebanks_v20 is already up-to-date!\n",
            "       | Downloading package vader_lexicon to /root/nltk_data...\n",
            "       |   Package vader_lexicon is already up-to-date!\n",
            "       | Downloading package verbnet to /root/nltk_data...\n",
            "       |   Package verbnet is already up-to-date!\n",
            "       | Downloading package verbnet3 to /root/nltk_data...\n",
            "       |   Package verbnet3 is already up-to-date!\n",
            "       | Downloading package webtext to /root/nltk_data...\n",
            "       |   Package webtext is already up-to-date!\n",
            "       | Downloading package wmt15_eval to /root/nltk_data...\n",
            "       |   Package wmt15_eval is already up-to-date!\n",
            "       | Downloading package word2vec_sample to /root/nltk_data...\n",
            "       |   Package word2vec_sample is already up-to-date!\n",
            "       | Downloading package wordnet to /root/nltk_data...\n",
            "       |   Package wordnet is already up-to-date!\n",
            "       | Downloading package wordnet2021 to /root/nltk_data...\n",
            "       |   Package wordnet2021 is already up-to-date!\n",
            "       | Downloading package wordnet31 to /root/nltk_data...\n",
            "       |   Package wordnet31 is already up-to-date!\n",
            "       | Downloading package wordnet_ic to /root/nltk_data...\n",
            "       |   Package wordnet_ic is already up-to-date!\n",
            "       | Downloading package words to /root/nltk_data...\n",
            "       |   Package words is already up-to-date!\n",
            "       | Downloading package ycoe to /root/nltk_data...\n",
            "       |   Package ycoe is already up-to-date!\n",
            "       | \n",
            "     Done downloading collection all\n"
          ]
        },
        {
          "name": "stdout",
          "output_type": "stream",
          "text": [
            "\n",
            "---------------------------------------------------------------------------\n",
            "    d) Download   l) List    u) Update   c) Config   h) Help   q) Quit\n",
            "---------------------------------------------------------------------------\n",
            "Downloader> q\n"
          ]
        },
        {
          "output_type": "execute_result",
          "data": {
            "text/plain": [
              "True"
            ]
          },
          "metadata": {},
          "execution_count": 8
        }
      ]
    },
    {
      "cell_type": "code",
      "source": [
        "from nltk.corpus import stopwords\n",
        "from nltk.stem import WordNetLemmatizer\n",
        "from nltk.stem import PorterStemmer\n",
        "wl = WordNetLemmatizer()\n",
        "ps = PorterStemmer()\n",
        "corpus = []"
      ],
      "metadata": {
        "id": "7WK_Qit9hJCl"
      },
      "execution_count": 9,
      "outputs": []
    },
    {
      "cell_type": "code",
      "source": [
        "for i in range(len(messages)):\n",
        "  # print(messages['v2'][i])\n",
        "  review = re.sub('[^a-zA-Z]', ' ', messages['v2'][i])\n",
        "  review = review.lower()\n",
        "  review = review.split()\n",
        "  # print(i)\n",
        "  # print(review)\n",
        "  review = [wl.lemmatize(word) for word in review if word not in stopwords.words('english')]\n",
        "  review = ' '.join(review)\n",
        "  corpus.append(review)\n"
      ],
      "metadata": {
        "id": "1bx-G3NpkTUg"
      },
      "execution_count": 10,
      "outputs": []
    },
    {
      "cell_type": "code",
      "source": [
        "from sklearn.feature_extraction.text import TfidfVectorizer, CountVectorizer\n",
        "# tv = TfidfVectorizer(max_features=3900)\n",
        "cv = CountVectorizer(max_features=3900)\n",
        "X = cv.fit_transform(corpus).toarray()"
      ],
      "metadata": {
        "id": "x4ceMqlQlih4"
      },
      "execution_count": 20,
      "outputs": []
    },
    {
      "cell_type": "code",
      "source": [
        "import pandas as pd\n",
        "df = pd.DataFrame(data= X.A, columns=cv.get_feature_names())\n",
        "df"
      ],
      "metadata": {
        "colab": {
          "base_uri": "https://localhost:8080/",
          "height": 522
        },
        "id": "YtcpNv0fbgkf",
        "outputId": "6c551520-4be7-4469-dfa7-9b4abe7c254c"
      },
      "execution_count": 12,
      "outputs": [
        {
          "output_type": "stream",
          "name": "stderr",
          "text": [
            "/usr/local/lib/python3.7/dist-packages/sklearn/utils/deprecation.py:87: FutureWarning: Function get_feature_names is deprecated; get_feature_names is deprecated in 1.0 and will be removed in 1.2. Please use get_feature_names_out instead.\n",
            "  warnings.warn(msg, category=FutureWarning)\n"
          ]
        },
        {
          "output_type": "execute_result",
          "data": {
            "text/plain": [
              "      aah  aathi  abi  ability  abiola  abj  able  absolutly  abt  abta  ...  \\\n",
              "0       0      0    0        0       0    0     0          0    0     0  ...   \n",
              "1       0      0    0        0       0    0     0          0    0     0  ...   \n",
              "2       0      0    0        0       0    0     0          0    0     0  ...   \n",
              "3       0      0    0        0       0    0     0          0    0     0  ...   \n",
              "4       0      0    0        0       0    0     0          0    0     0  ...   \n",
              "...   ...    ...  ...      ...     ...  ...   ...        ...  ...   ...  ...   \n",
              "5567    0      0    0        0       0    0     0          0    0     0  ...   \n",
              "5568    0      0    0        0       0    0     0          0    0     0  ...   \n",
              "5569    0      0    0        0       0    0     0          0    0     0  ...   \n",
              "5570    0      0    0        0       0    0     0          0    0     0  ...   \n",
              "5571    0      0    0        0       0    0     0          0    0     0  ...   \n",
              "\n",
              "      zealand  zebra  zed  zero  zf  zhong  zindgi  zoe  zogtorius  zoom  \n",
              "0           0      0    0     0   0      0       0    0          0     0  \n",
              "1           0      0    0     0   0      0       0    0          0     0  \n",
              "2           0      0    0     0   0      0       0    0          0     0  \n",
              "3           0      0    0     0   0      0       0    0          0     0  \n",
              "4           0      0    0     0   0      0       0    0          0     0  \n",
              "...       ...    ...  ...   ...  ..    ...     ...  ...        ...   ...  \n",
              "5567        0      0    0     0   0      0       0    0          0     0  \n",
              "5568        0      0    0     0   0      0       0    0          0     0  \n",
              "5569        0      0    0     0   0      0       0    0          0     0  \n",
              "5570        0      0    0     0   0      0       0    0          0     0  \n",
              "5571        0      0    0     0   0      0       0    0          0     0  \n",
              "\n",
              "[5572 rows x 3900 columns]"
            ],
            "text/html": [
              "\n",
              "  <div id=\"df-f916be2a-8cde-4989-a787-c332d956c2c9\">\n",
              "    <div class=\"colab-df-container\">\n",
              "      <div>\n",
              "<style scoped>\n",
              "    .dataframe tbody tr th:only-of-type {\n",
              "        vertical-align: middle;\n",
              "    }\n",
              "\n",
              "    .dataframe tbody tr th {\n",
              "        vertical-align: top;\n",
              "    }\n",
              "\n",
              "    .dataframe thead th {\n",
              "        text-align: right;\n",
              "    }\n",
              "</style>\n",
              "<table border=\"1\" class=\"dataframe\">\n",
              "  <thead>\n",
              "    <tr style=\"text-align: right;\">\n",
              "      <th></th>\n",
              "      <th>aah</th>\n",
              "      <th>aathi</th>\n",
              "      <th>abi</th>\n",
              "      <th>ability</th>\n",
              "      <th>abiola</th>\n",
              "      <th>abj</th>\n",
              "      <th>able</th>\n",
              "      <th>absolutly</th>\n",
              "      <th>abt</th>\n",
              "      <th>abta</th>\n",
              "      <th>...</th>\n",
              "      <th>zealand</th>\n",
              "      <th>zebra</th>\n",
              "      <th>zed</th>\n",
              "      <th>zero</th>\n",
              "      <th>zf</th>\n",
              "      <th>zhong</th>\n",
              "      <th>zindgi</th>\n",
              "      <th>zoe</th>\n",
              "      <th>zogtorius</th>\n",
              "      <th>zoom</th>\n",
              "    </tr>\n",
              "  </thead>\n",
              "  <tbody>\n",
              "    <tr>\n",
              "      <th>0</th>\n",
              "      <td>0</td>\n",
              "      <td>0</td>\n",
              "      <td>0</td>\n",
              "      <td>0</td>\n",
              "      <td>0</td>\n",
              "      <td>0</td>\n",
              "      <td>0</td>\n",
              "      <td>0</td>\n",
              "      <td>0</td>\n",
              "      <td>0</td>\n",
              "      <td>...</td>\n",
              "      <td>0</td>\n",
              "      <td>0</td>\n",
              "      <td>0</td>\n",
              "      <td>0</td>\n",
              "      <td>0</td>\n",
              "      <td>0</td>\n",
              "      <td>0</td>\n",
              "      <td>0</td>\n",
              "      <td>0</td>\n",
              "      <td>0</td>\n",
              "    </tr>\n",
              "    <tr>\n",
              "      <th>1</th>\n",
              "      <td>0</td>\n",
              "      <td>0</td>\n",
              "      <td>0</td>\n",
              "      <td>0</td>\n",
              "      <td>0</td>\n",
              "      <td>0</td>\n",
              "      <td>0</td>\n",
              "      <td>0</td>\n",
              "      <td>0</td>\n",
              "      <td>0</td>\n",
              "      <td>...</td>\n",
              "      <td>0</td>\n",
              "      <td>0</td>\n",
              "      <td>0</td>\n",
              "      <td>0</td>\n",
              "      <td>0</td>\n",
              "      <td>0</td>\n",
              "      <td>0</td>\n",
              "      <td>0</td>\n",
              "      <td>0</td>\n",
              "      <td>0</td>\n",
              "    </tr>\n",
              "    <tr>\n",
              "      <th>2</th>\n",
              "      <td>0</td>\n",
              "      <td>0</td>\n",
              "      <td>0</td>\n",
              "      <td>0</td>\n",
              "      <td>0</td>\n",
              "      <td>0</td>\n",
              "      <td>0</td>\n",
              "      <td>0</td>\n",
              "      <td>0</td>\n",
              "      <td>0</td>\n",
              "      <td>...</td>\n",
              "      <td>0</td>\n",
              "      <td>0</td>\n",
              "      <td>0</td>\n",
              "      <td>0</td>\n",
              "      <td>0</td>\n",
              "      <td>0</td>\n",
              "      <td>0</td>\n",
              "      <td>0</td>\n",
              "      <td>0</td>\n",
              "      <td>0</td>\n",
              "    </tr>\n",
              "    <tr>\n",
              "      <th>3</th>\n",
              "      <td>0</td>\n",
              "      <td>0</td>\n",
              "      <td>0</td>\n",
              "      <td>0</td>\n",
              "      <td>0</td>\n",
              "      <td>0</td>\n",
              "      <td>0</td>\n",
              "      <td>0</td>\n",
              "      <td>0</td>\n",
              "      <td>0</td>\n",
              "      <td>...</td>\n",
              "      <td>0</td>\n",
              "      <td>0</td>\n",
              "      <td>0</td>\n",
              "      <td>0</td>\n",
              "      <td>0</td>\n",
              "      <td>0</td>\n",
              "      <td>0</td>\n",
              "      <td>0</td>\n",
              "      <td>0</td>\n",
              "      <td>0</td>\n",
              "    </tr>\n",
              "    <tr>\n",
              "      <th>4</th>\n",
              "      <td>0</td>\n",
              "      <td>0</td>\n",
              "      <td>0</td>\n",
              "      <td>0</td>\n",
              "      <td>0</td>\n",
              "      <td>0</td>\n",
              "      <td>0</td>\n",
              "      <td>0</td>\n",
              "      <td>0</td>\n",
              "      <td>0</td>\n",
              "      <td>...</td>\n",
              "      <td>0</td>\n",
              "      <td>0</td>\n",
              "      <td>0</td>\n",
              "      <td>0</td>\n",
              "      <td>0</td>\n",
              "      <td>0</td>\n",
              "      <td>0</td>\n",
              "      <td>0</td>\n",
              "      <td>0</td>\n",
              "      <td>0</td>\n",
              "    </tr>\n",
              "    <tr>\n",
              "      <th>...</th>\n",
              "      <td>...</td>\n",
              "      <td>...</td>\n",
              "      <td>...</td>\n",
              "      <td>...</td>\n",
              "      <td>...</td>\n",
              "      <td>...</td>\n",
              "      <td>...</td>\n",
              "      <td>...</td>\n",
              "      <td>...</td>\n",
              "      <td>...</td>\n",
              "      <td>...</td>\n",
              "      <td>...</td>\n",
              "      <td>...</td>\n",
              "      <td>...</td>\n",
              "      <td>...</td>\n",
              "      <td>...</td>\n",
              "      <td>...</td>\n",
              "      <td>...</td>\n",
              "      <td>...</td>\n",
              "      <td>...</td>\n",
              "      <td>...</td>\n",
              "    </tr>\n",
              "    <tr>\n",
              "      <th>5567</th>\n",
              "      <td>0</td>\n",
              "      <td>0</td>\n",
              "      <td>0</td>\n",
              "      <td>0</td>\n",
              "      <td>0</td>\n",
              "      <td>0</td>\n",
              "      <td>0</td>\n",
              "      <td>0</td>\n",
              "      <td>0</td>\n",
              "      <td>0</td>\n",
              "      <td>...</td>\n",
              "      <td>0</td>\n",
              "      <td>0</td>\n",
              "      <td>0</td>\n",
              "      <td>0</td>\n",
              "      <td>0</td>\n",
              "      <td>0</td>\n",
              "      <td>0</td>\n",
              "      <td>0</td>\n",
              "      <td>0</td>\n",
              "      <td>0</td>\n",
              "    </tr>\n",
              "    <tr>\n",
              "      <th>5568</th>\n",
              "      <td>0</td>\n",
              "      <td>0</td>\n",
              "      <td>0</td>\n",
              "      <td>0</td>\n",
              "      <td>0</td>\n",
              "      <td>0</td>\n",
              "      <td>0</td>\n",
              "      <td>0</td>\n",
              "      <td>0</td>\n",
              "      <td>0</td>\n",
              "      <td>...</td>\n",
              "      <td>0</td>\n",
              "      <td>0</td>\n",
              "      <td>0</td>\n",
              "      <td>0</td>\n",
              "      <td>0</td>\n",
              "      <td>0</td>\n",
              "      <td>0</td>\n",
              "      <td>0</td>\n",
              "      <td>0</td>\n",
              "      <td>0</td>\n",
              "    </tr>\n",
              "    <tr>\n",
              "      <th>5569</th>\n",
              "      <td>0</td>\n",
              "      <td>0</td>\n",
              "      <td>0</td>\n",
              "      <td>0</td>\n",
              "      <td>0</td>\n",
              "      <td>0</td>\n",
              "      <td>0</td>\n",
              "      <td>0</td>\n",
              "      <td>0</td>\n",
              "      <td>0</td>\n",
              "      <td>...</td>\n",
              "      <td>0</td>\n",
              "      <td>0</td>\n",
              "      <td>0</td>\n",
              "      <td>0</td>\n",
              "      <td>0</td>\n",
              "      <td>0</td>\n",
              "      <td>0</td>\n",
              "      <td>0</td>\n",
              "      <td>0</td>\n",
              "      <td>0</td>\n",
              "    </tr>\n",
              "    <tr>\n",
              "      <th>5570</th>\n",
              "      <td>0</td>\n",
              "      <td>0</td>\n",
              "      <td>0</td>\n",
              "      <td>0</td>\n",
              "      <td>0</td>\n",
              "      <td>0</td>\n",
              "      <td>0</td>\n",
              "      <td>0</td>\n",
              "      <td>0</td>\n",
              "      <td>0</td>\n",
              "      <td>...</td>\n",
              "      <td>0</td>\n",
              "      <td>0</td>\n",
              "      <td>0</td>\n",
              "      <td>0</td>\n",
              "      <td>0</td>\n",
              "      <td>0</td>\n",
              "      <td>0</td>\n",
              "      <td>0</td>\n",
              "      <td>0</td>\n",
              "      <td>0</td>\n",
              "    </tr>\n",
              "    <tr>\n",
              "      <th>5571</th>\n",
              "      <td>0</td>\n",
              "      <td>0</td>\n",
              "      <td>0</td>\n",
              "      <td>0</td>\n",
              "      <td>0</td>\n",
              "      <td>0</td>\n",
              "      <td>0</td>\n",
              "      <td>0</td>\n",
              "      <td>0</td>\n",
              "      <td>0</td>\n",
              "      <td>...</td>\n",
              "      <td>0</td>\n",
              "      <td>0</td>\n",
              "      <td>0</td>\n",
              "      <td>0</td>\n",
              "      <td>0</td>\n",
              "      <td>0</td>\n",
              "      <td>0</td>\n",
              "      <td>0</td>\n",
              "      <td>0</td>\n",
              "      <td>0</td>\n",
              "    </tr>\n",
              "  </tbody>\n",
              "</table>\n",
              "<p>5572 rows × 3900 columns</p>\n",
              "</div>\n",
              "      <button class=\"colab-df-convert\" onclick=\"convertToInteractive('df-f916be2a-8cde-4989-a787-c332d956c2c9')\"\n",
              "              title=\"Convert this dataframe to an interactive table.\"\n",
              "              style=\"display:none;\">\n",
              "        \n",
              "  <svg xmlns=\"http://www.w3.org/2000/svg\" height=\"24px\"viewBox=\"0 0 24 24\"\n",
              "       width=\"24px\">\n",
              "    <path d=\"M0 0h24v24H0V0z\" fill=\"none\"/>\n",
              "    <path d=\"M18.56 5.44l.94 2.06.94-2.06 2.06-.94-2.06-.94-.94-2.06-.94 2.06-2.06.94zm-11 1L8.5 8.5l.94-2.06 2.06-.94-2.06-.94L8.5 2.5l-.94 2.06-2.06.94zm10 10l.94 2.06.94-2.06 2.06-.94-2.06-.94-.94-2.06-.94 2.06-2.06.94z\"/><path d=\"M17.41 7.96l-1.37-1.37c-.4-.4-.92-.59-1.43-.59-.52 0-1.04.2-1.43.59L10.3 9.45l-7.72 7.72c-.78.78-.78 2.05 0 2.83L4 21.41c.39.39.9.59 1.41.59.51 0 1.02-.2 1.41-.59l7.78-7.78 2.81-2.81c.8-.78.8-2.07 0-2.86zM5.41 20L4 18.59l7.72-7.72 1.47 1.35L5.41 20z\"/>\n",
              "  </svg>\n",
              "      </button>\n",
              "      \n",
              "  <style>\n",
              "    .colab-df-container {\n",
              "      display:flex;\n",
              "      flex-wrap:wrap;\n",
              "      gap: 12px;\n",
              "    }\n",
              "\n",
              "    .colab-df-convert {\n",
              "      background-color: #E8F0FE;\n",
              "      border: none;\n",
              "      border-radius: 50%;\n",
              "      cursor: pointer;\n",
              "      display: none;\n",
              "      fill: #1967D2;\n",
              "      height: 32px;\n",
              "      padding: 0 0 0 0;\n",
              "      width: 32px;\n",
              "    }\n",
              "\n",
              "    .colab-df-convert:hover {\n",
              "      background-color: #E2EBFA;\n",
              "      box-shadow: 0px 1px 2px rgba(60, 64, 67, 0.3), 0px 1px 3px 1px rgba(60, 64, 67, 0.15);\n",
              "      fill: #174EA6;\n",
              "    }\n",
              "\n",
              "    [theme=dark] .colab-df-convert {\n",
              "      background-color: #3B4455;\n",
              "      fill: #D2E3FC;\n",
              "    }\n",
              "\n",
              "    [theme=dark] .colab-df-convert:hover {\n",
              "      background-color: #434B5C;\n",
              "      box-shadow: 0px 1px 3px 1px rgba(0, 0, 0, 0.15);\n",
              "      filter: drop-shadow(0px 1px 2px rgba(0, 0, 0, 0.3));\n",
              "      fill: #FFFFFF;\n",
              "    }\n",
              "  </style>\n",
              "\n",
              "      <script>\n",
              "        const buttonEl =\n",
              "          document.querySelector('#df-f916be2a-8cde-4989-a787-c332d956c2c9 button.colab-df-convert');\n",
              "        buttonEl.style.display =\n",
              "          google.colab.kernel.accessAllowed ? 'block' : 'none';\n",
              "\n",
              "        async function convertToInteractive(key) {\n",
              "          const element = document.querySelector('#df-f916be2a-8cde-4989-a787-c332d956c2c9');\n",
              "          const dataTable =\n",
              "            await google.colab.kernel.invokeFunction('convertToInteractive',\n",
              "                                                     [key], {});\n",
              "          if (!dataTable) return;\n",
              "\n",
              "          const docLinkHtml = 'Like what you see? Visit the ' +\n",
              "            '<a target=\"_blank\" href=https://colab.research.google.com/notebooks/data_table.ipynb>data table notebook</a>'\n",
              "            + ' to learn more about interactive tables.';\n",
              "          element.innerHTML = '';\n",
              "          dataTable['output_type'] = 'display_data';\n",
              "          await google.colab.output.renderOutput(dataTable, element);\n",
              "          const docLink = document.createElement('div');\n",
              "          docLink.innerHTML = docLinkHtml;\n",
              "          element.appendChild(docLink);\n",
              "        }\n",
              "      </script>\n",
              "    </div>\n",
              "  </div>\n",
              "  "
            ]
          },
          "metadata": {},
          "execution_count": 12
        }
      ]
    },
    {
      "cell_type": "code",
      "source": [
        "y = pd.get_dummies(messages['v1'])\n",
        "y = y.iloc[:,1].values"
      ],
      "metadata": {
        "id": "pTCjAVpuprzZ"
      },
      "execution_count": 13,
      "outputs": []
    },
    {
      "cell_type": "code",
      "source": [
        "from sklearn.model_selection import train_test_split\n",
        "X_train, X_test, y_train, y_test = train_test_split(X,y,test_size=0.2,random_state=0)"
      ],
      "metadata": {
        "id": "FBUqaiQ1p-Ad"
      },
      "execution_count": 21,
      "outputs": []
    },
    {
      "cell_type": "code",
      "source": [
        "X_test[:3]"
      ],
      "metadata": {
        "colab": {
          "base_uri": "https://localhost:8080/"
        },
        "id": "N8xZJX1vbSet",
        "outputId": "898b0bef-3d32-4084-c2e0-ff33782b1932"
      },
      "execution_count": 22,
      "outputs": [
        {
          "output_type": "execute_result",
          "data": {
            "text/plain": [
              "array([[0, 0, 0, ..., 0, 0, 0],\n",
              "       [0, 0, 0, ..., 0, 0, 0],\n",
              "       [0, 0, 0, ..., 0, 0, 0]])"
            ]
          },
          "metadata": {},
          "execution_count": 22
        }
      ]
    },
    {
      "cell_type": "code",
      "source": [
        "import tensorflow as tf\n",
        "from tensorflow import keras\n",
        "import numpy as np"
      ],
      "metadata": {
        "id": "YXvlwZmiq0aJ"
      },
      "execution_count": 16,
      "outputs": []
    },
    {
      "cell_type": "code",
      "source": [
        "model = keras.Sequential([\n",
        "  keras.layers.Dense(3900,activation=\"relu\",use_bias=True, kernel_initializer=tf.keras.initializers.HeNormal()),\n",
        "  keras.layers.Dense(130,activation=\"relu\",use_bias=True, kernel_initializer=tf.keras.initializers.HeNormal()), \n",
        "  keras.layers.Dense(10,activation=\"relu\",use_bias=True, kernel_initializer=tf.keras.initializers.HeNormal()),\n",
        "  keras.layers.Dense(1,activation=\"sigmoid\", kernel_initializer='uniform')\n",
        "])"
      ],
      "metadata": {
        "id": "uMqfRNpZUVuz"
      },
      "execution_count": 17,
      "outputs": []
    },
    {
      "cell_type": "code",
      "source": [
        "model.compile(optimizer=\"adam\",\n",
        "            loss=\"binary_crossentropy\",\n",
        "            metrics=[\"accuracy\"]\n",
        ")"
      ],
      "metadata": {
        "id": "8oUuVZblYDnN"
      },
      "execution_count": 18,
      "outputs": []
    },
    {
      "cell_type": "code",
      "source": [
        "model.fit(X_train, y_train, epochs =100)"
      ],
      "metadata": {
        "colab": {
          "base_uri": "https://localhost:8080/"
        },
        "id": "O49hJZ4AYOGe",
        "outputId": "5cd373f4-4f9a-4e0f-e82f-663c469a5aed"
      },
      "execution_count": 23,
      "outputs": [
        {
          "output_type": "stream",
          "name": "stdout",
          "text": [
            "Epoch 1/100\n",
            "140/140 [==============================] - 2s 6ms/step - loss: 0.2346 - accuracy: 0.9170\n",
            "Epoch 2/100\n",
            "140/140 [==============================] - 1s 6ms/step - loss: 0.0240 - accuracy: 0.9915\n",
            "Epoch 3/100\n",
            "140/140 [==============================] - 1s 6ms/step - loss: 0.0042 - accuracy: 0.9987\n",
            "Epoch 4/100\n",
            "140/140 [==============================] - 1s 6ms/step - loss: 9.9645e-04 - accuracy: 0.9998\n",
            "Epoch 5/100\n",
            "140/140 [==============================] - 1s 6ms/step - loss: 2.4181e-04 - accuracy: 1.0000\n",
            "Epoch 6/100\n",
            "140/140 [==============================] - 1s 6ms/step - loss: 1.2743e-04 - accuracy: 1.0000\n",
            "Epoch 7/100\n",
            "140/140 [==============================] - 1s 6ms/step - loss: 8.2270e-05 - accuracy: 1.0000\n",
            "Epoch 8/100\n",
            "140/140 [==============================] - 1s 6ms/step - loss: 5.7648e-05 - accuracy: 1.0000\n",
            "Epoch 9/100\n",
            "140/140 [==============================] - 1s 6ms/step - loss: 4.2531e-05 - accuracy: 1.0000\n",
            "Epoch 10/100\n",
            "140/140 [==============================] - 1s 6ms/step - loss: 3.2522e-05 - accuracy: 1.0000\n",
            "Epoch 11/100\n",
            "140/140 [==============================] - 1s 6ms/step - loss: 2.5591e-05 - accuracy: 1.0000\n",
            "Epoch 12/100\n",
            "140/140 [==============================] - 1s 6ms/step - loss: 2.0559e-05 - accuracy: 1.0000\n",
            "Epoch 13/100\n",
            "140/140 [==============================] - 1s 6ms/step - loss: 1.6767e-05 - accuracy: 1.0000\n",
            "Epoch 14/100\n",
            "140/140 [==============================] - 1s 6ms/step - loss: 1.3501e-05 - accuracy: 1.0000\n",
            "Epoch 15/100\n",
            "140/140 [==============================] - 1s 6ms/step - loss: 1.1326e-05 - accuracy: 1.0000\n",
            "Epoch 16/100\n",
            "140/140 [==============================] - 1s 6ms/step - loss: 9.6305e-06 - accuracy: 1.0000\n",
            "Epoch 17/100\n",
            "140/140 [==============================] - 1s 6ms/step - loss: 8.2524e-06 - accuracy: 1.0000\n",
            "Epoch 18/100\n",
            "140/140 [==============================] - 1s 6ms/step - loss: 7.1409e-06 - accuracy: 1.0000\n",
            "Epoch 19/100\n",
            "140/140 [==============================] - 1s 6ms/step - loss: 6.2177e-06 - accuracy: 1.0000\n",
            "Epoch 20/100\n",
            "140/140 [==============================] - 1s 6ms/step - loss: 5.4258e-06 - accuracy: 1.0000\n",
            "Epoch 21/100\n",
            "140/140 [==============================] - 1s 6ms/step - loss: 4.7697e-06 - accuracy: 1.0000\n",
            "Epoch 22/100\n",
            "140/140 [==============================] - 1s 6ms/step - loss: 4.2076e-06 - accuracy: 1.0000\n",
            "Epoch 23/100\n",
            "140/140 [==============================] - 1s 6ms/step - loss: 3.7300e-06 - accuracy: 1.0000\n",
            "Epoch 24/100\n",
            "140/140 [==============================] - 1s 6ms/step - loss: 3.3083e-06 - accuracy: 1.0000\n",
            "Epoch 25/100\n",
            "140/140 [==============================] - 1s 10ms/step - loss: 2.9559e-06 - accuracy: 1.0000\n",
            "Epoch 26/100\n",
            "140/140 [==============================] - 1s 7ms/step - loss: 2.6303e-06 - accuracy: 1.0000\n",
            "Epoch 27/100\n",
            "140/140 [==============================] - 1s 6ms/step - loss: 2.3572e-06 - accuracy: 1.0000\n",
            "Epoch 28/100\n",
            "140/140 [==============================] - 1s 6ms/step - loss: 2.1158e-06 - accuracy: 1.0000\n",
            "Epoch 29/100\n",
            "140/140 [==============================] - 1s 6ms/step - loss: 1.9058e-06 - accuracy: 1.0000\n",
            "Epoch 30/100\n",
            "140/140 [==============================] - 1s 6ms/step - loss: 1.7177e-06 - accuracy: 1.0000\n",
            "Epoch 31/100\n",
            "140/140 [==============================] - 1s 6ms/step - loss: 1.5550e-06 - accuracy: 1.0000\n",
            "Epoch 32/100\n",
            "140/140 [==============================] - 1s 6ms/step - loss: 1.4049e-06 - accuracy: 1.0000\n",
            "Epoch 33/100\n",
            "140/140 [==============================] - 1s 6ms/step - loss: 1.2727e-06 - accuracy: 1.0000\n",
            "Epoch 34/100\n",
            "140/140 [==============================] - 1s 6ms/step - loss: 1.1558e-06 - accuracy: 1.0000\n",
            "Epoch 35/100\n",
            "140/140 [==============================] - 1s 8ms/step - loss: 1.0491e-06 - accuracy: 1.0000\n",
            "Epoch 36/100\n",
            "140/140 [==============================] - 1s 7ms/step - loss: 9.5566e-07 - accuracy: 1.0000\n",
            "Epoch 37/100\n",
            "140/140 [==============================] - 1s 6ms/step - loss: 8.7073e-07 - accuracy: 1.0000\n",
            "Epoch 38/100\n",
            "140/140 [==============================] - 1s 6ms/step - loss: 7.9585e-07 - accuracy: 1.0000\n",
            "Epoch 39/100\n",
            "140/140 [==============================] - 1s 6ms/step - loss: 7.2321e-07 - accuracy: 1.0000\n",
            "Epoch 40/100\n",
            "140/140 [==============================] - 1s 6ms/step - loss: 6.6145e-07 - accuracy: 1.0000\n",
            "Epoch 41/100\n",
            "140/140 [==============================] - 1s 6ms/step - loss: 6.0559e-07 - accuracy: 1.0000\n",
            "Epoch 42/100\n",
            "140/140 [==============================] - 1s 6ms/step - loss: 5.5282e-07 - accuracy: 1.0000\n",
            "Epoch 43/100\n",
            "140/140 [==============================] - 1s 6ms/step - loss: 5.0612e-07 - accuracy: 1.0000\n",
            "Epoch 44/100\n",
            "140/140 [==============================] - 1s 6ms/step - loss: 4.6467e-07 - accuracy: 1.0000\n",
            "Epoch 45/100\n",
            "140/140 [==============================] - 1s 6ms/step - loss: 4.2630e-07 - accuracy: 1.0000\n",
            "Epoch 46/100\n",
            "140/140 [==============================] - 1s 6ms/step - loss: 3.9154e-07 - accuracy: 1.0000\n",
            "Epoch 47/100\n",
            "140/140 [==============================] - 1s 6ms/step - loss: 3.5937e-07 - accuracy: 1.0000\n",
            "Epoch 48/100\n",
            "140/140 [==============================] - 1s 6ms/step - loss: 3.3056e-07 - accuracy: 1.0000\n",
            "Epoch 49/100\n",
            "140/140 [==============================] - 1s 6ms/step - loss: 3.0454e-07 - accuracy: 1.0000\n",
            "Epoch 50/100\n",
            "140/140 [==============================] - 1s 6ms/step - loss: 2.7988e-07 - accuracy: 1.0000\n",
            "Epoch 51/100\n",
            "140/140 [==============================] - 1s 6ms/step - loss: 2.5753e-07 - accuracy: 1.0000\n",
            "Epoch 52/100\n",
            "140/140 [==============================] - 1s 6ms/step - loss: 2.3745e-07 - accuracy: 1.0000\n",
            "Epoch 53/100\n",
            "140/140 [==============================] - 1s 6ms/step - loss: 2.1927e-07 - accuracy: 1.0000\n",
            "Epoch 54/100\n",
            "140/140 [==============================] - 1s 6ms/step - loss: 2.0148e-07 - accuracy: 1.0000\n",
            "Epoch 55/100\n",
            "140/140 [==============================] - 1s 6ms/step - loss: 1.8607e-07 - accuracy: 1.0000\n",
            "Epoch 56/100\n",
            "140/140 [==============================] - 1s 6ms/step - loss: 1.7171e-07 - accuracy: 1.0000\n",
            "Epoch 57/100\n",
            "140/140 [==============================] - 1s 6ms/step - loss: 1.5878e-07 - accuracy: 1.0000\n",
            "Epoch 58/100\n",
            "140/140 [==============================] - 1s 6ms/step - loss: 1.4632e-07 - accuracy: 1.0000\n",
            "Epoch 59/100\n",
            "140/140 [==============================] - 1s 6ms/step - loss: 1.3525e-07 - accuracy: 1.0000\n",
            "Epoch 60/100\n",
            "140/140 [==============================] - 1s 6ms/step - loss: 1.2510e-07 - accuracy: 1.0000\n",
            "Epoch 61/100\n",
            "140/140 [==============================] - 1s 6ms/step - loss: 1.1547e-07 - accuracy: 1.0000\n",
            "Epoch 62/100\n",
            "140/140 [==============================] - 1s 6ms/step - loss: 1.0682e-07 - accuracy: 1.0000\n",
            "Epoch 63/100\n",
            "140/140 [==============================] - 1s 6ms/step - loss: 9.8790e-08 - accuracy: 1.0000\n",
            "Epoch 64/100\n",
            "140/140 [==============================] - 1s 6ms/step - loss: 9.1474e-08 - accuracy: 1.0000\n",
            "Epoch 65/100\n",
            "140/140 [==============================] - 1s 6ms/step - loss: 8.4630e-08 - accuracy: 1.0000\n",
            "Epoch 66/100\n",
            "140/140 [==============================] - 1s 6ms/step - loss: 7.8466e-08 - accuracy: 1.0000\n",
            "Epoch 67/100\n",
            "140/140 [==============================] - 1s 6ms/step - loss: 7.2763e-08 - accuracy: 1.0000\n",
            "Epoch 68/100\n",
            "140/140 [==============================] - 1s 6ms/step - loss: 6.7391e-08 - accuracy: 1.0000\n",
            "Epoch 69/100\n",
            "140/140 [==============================] - 1s 6ms/step - loss: 6.2538e-08 - accuracy: 1.0000\n",
            "Epoch 70/100\n",
            "140/140 [==============================] - 1s 6ms/step - loss: 5.7902e-08 - accuracy: 1.0000\n",
            "Epoch 71/100\n",
            "140/140 [==============================] - 1s 6ms/step - loss: 5.3826e-08 - accuracy: 1.0000\n",
            "Epoch 72/100\n",
            "140/140 [==============================] - 1s 6ms/step - loss: 4.9287e-08 - accuracy: 1.0000\n",
            "Epoch 73/100\n",
            "140/140 [==============================] - 1s 7ms/step - loss: 4.5689e-08 - accuracy: 1.0000\n",
            "Epoch 74/100\n",
            "140/140 [==============================] - 1s 7ms/step - loss: 4.2498e-08 - accuracy: 1.0000\n",
            "Epoch 75/100\n",
            "140/140 [==============================] - 1s 6ms/step - loss: 3.9501e-08 - accuracy: 1.0000\n",
            "Epoch 76/100\n",
            "140/140 [==============================] - 1s 6ms/step - loss: 3.6735e-08 - accuracy: 1.0000\n",
            "Epoch 77/100\n",
            "140/140 [==============================] - 1s 6ms/step - loss: 3.4222e-08 - accuracy: 1.0000\n",
            "Epoch 78/100\n",
            "140/140 [==============================] - 1s 6ms/step - loss: 3.1830e-08 - accuracy: 1.0000\n",
            "Epoch 79/100\n",
            "140/140 [==============================] - 1s 6ms/step - loss: 2.9656e-08 - accuracy: 1.0000\n",
            "Epoch 80/100\n",
            "140/140 [==============================] - 1s 6ms/step - loss: 2.7625e-08 - accuracy: 1.0000\n",
            "Epoch 81/100\n",
            "140/140 [==============================] - 1s 6ms/step - loss: 2.5773e-08 - accuracy: 1.0000\n",
            "Epoch 82/100\n",
            "140/140 [==============================] - 1s 6ms/step - loss: 2.4005e-08 - accuracy: 1.0000\n",
            "Epoch 83/100\n",
            "140/140 [==============================] - 1s 6ms/step - loss: 2.2365e-08 - accuracy: 1.0000\n",
            "Epoch 84/100\n",
            "140/140 [==============================] - 1s 6ms/step - loss: 2.0889e-08 - accuracy: 1.0000\n",
            "Epoch 85/100\n",
            "140/140 [==============================] - 1s 6ms/step - loss: 1.9479e-08 - accuracy: 1.0000\n",
            "Epoch 86/100\n",
            "140/140 [==============================] - 1s 6ms/step - loss: 1.8144e-08 - accuracy: 1.0000\n",
            "Epoch 87/100\n",
            "140/140 [==============================] - 1s 6ms/step - loss: 1.6922e-08 - accuracy: 1.0000\n",
            "Epoch 88/100\n",
            "140/140 [==============================] - 1s 6ms/step - loss: 1.5728e-08 - accuracy: 1.0000\n",
            "Epoch 89/100\n",
            "140/140 [==============================] - 1s 6ms/step - loss: 1.4602e-08 - accuracy: 1.0000\n",
            "Epoch 90/100\n",
            "140/140 [==============================] - 1s 6ms/step - loss: 1.3650e-08 - accuracy: 1.0000\n",
            "Epoch 91/100\n",
            "140/140 [==============================] - 1s 6ms/step - loss: 1.2775e-08 - accuracy: 1.0000\n",
            "Epoch 92/100\n",
            "140/140 [==============================] - 1s 6ms/step - loss: 1.1934e-08 - accuracy: 1.0000\n",
            "Epoch 93/100\n",
            "140/140 [==============================] - 1s 6ms/step - loss: 1.1159e-08 - accuracy: 1.0000\n",
            "Epoch 94/100\n",
            "140/140 [==============================] - 1s 6ms/step - loss: 1.0445e-08 - accuracy: 1.0000\n",
            "Epoch 95/100\n",
            "140/140 [==============================] - 1s 6ms/step - loss: 9.6683e-09 - accuracy: 1.0000\n",
            "Epoch 96/100\n",
            "140/140 [==============================] - 1s 6ms/step - loss: 9.0434e-09 - accuracy: 1.0000\n",
            "Epoch 97/100\n",
            "140/140 [==============================] - 1s 6ms/step - loss: 8.4805e-09 - accuracy: 1.0000\n",
            "Epoch 98/100\n",
            "140/140 [==============================] - 1s 6ms/step - loss: 7.9453e-09 - accuracy: 1.0000\n",
            "Epoch 99/100\n",
            "140/140 [==============================] - 1s 6ms/step - loss: 7.4386e-09 - accuracy: 1.0000\n",
            "Epoch 100/100\n",
            "140/140 [==============================] - 1s 6ms/step - loss: 6.9596e-09 - accuracy: 1.0000\n"
          ]
        },
        {
          "output_type": "execute_result",
          "data": {
            "text/plain": [
              "<keras.callbacks.History at 0x7fa9bcd3db10>"
            ]
          },
          "metadata": {},
          "execution_count": 23
        }
      ]
    },
    {
      "cell_type": "code",
      "source": [
        "results = model.evaluate(X_test,y_test,batch_size=128)\n",
        "print(\"test loss, test acc:\", results)"
      ],
      "metadata": {
        "colab": {
          "base_uri": "https://localhost:8080/"
        },
        "id": "19HdUIghZfDo",
        "outputId": "aa25f842-8ed6-48d2-8f4f-2ea2378a8a5c"
      },
      "execution_count": 24,
      "outputs": [
        {
          "output_type": "stream",
          "name": "stdout",
          "text": [
            "9/9 [==============================] - 0s 5ms/step - loss: 0.2903 - accuracy: 0.9830\n",
            "test loss, test acc: [0.2902930974960327, 0.9829596281051636]\n"
          ]
        }
      ]
    },
    {
      "cell_type": "code",
      "source": [
        "y_test"
      ],
      "metadata": {
        "colab": {
          "base_uri": "https://localhost:8080/"
        },
        "id": "NN9JcVzDfjLG",
        "outputId": "66baf910-7f47-4366-df47-4406dcecdee0"
      },
      "execution_count": 34,
      "outputs": [
        {
          "output_type": "execute_result",
          "data": {
            "text/plain": [
              "array([0, 0, 0, ..., 0, 0, 0], dtype=uint8)"
            ]
          },
          "metadata": {},
          "execution_count": 34
        }
      ]
    },
    {
      "cell_type": "code",
      "source": [],
      "metadata": {
        "id": "ULf0LKz5gJZP"
      },
      "execution_count": null,
      "outputs": []
    },
    {
      "cell_type": "code",
      "source": [
        "y_pred = model.predict(X_test[:10])\n",
        "for y in y_pred:\n",
        "  if y<0.5:\n",
        "    print(\"ham\")\n",
        "  else:\n",
        "    print(\"spam\")"
      ],
      "metadata": {
        "colab": {
          "base_uri": "https://localhost:8080/"
        },
        "id": "NRuZ2CmMaInh",
        "outputId": "075aa2c0-d2b3-4ff3-a7b5-df6e1ef88e16"
      },
      "execution_count": 31,
      "outputs": [
        {
          "output_type": "stream",
          "name": "stdout",
          "text": [
            "1/1 [==============================] - 0s 28ms/step\n",
            "ham\n",
            "ham\n",
            "ham\n",
            "ham\n",
            "ham\n",
            "ham\n",
            "ham\n",
            "ham\n",
            "ham\n",
            "spam\n"
          ]
        }
      ]
    },
    {
      "cell_type": "code",
      "source": [
        "Y_pred = model.predict(X_test)\n",
        "Y_pred = np.around(Y_pred)"
      ],
      "metadata": {
        "colab": {
          "base_uri": "https://localhost:8080/"
        },
        "id": "W7GUapRygKaM",
        "outputId": "8811f600-5252-4579-9d30-6402cd3fb353"
      },
      "execution_count": 36,
      "outputs": [
        {
          "output_type": "stream",
          "name": "stdout",
          "text": [
            "35/35 [==============================] - 0s 2ms/step\n"
          ]
        }
      ]
    },
    {
      "cell_type": "code",
      "source": [
        "Y_pred[8:12]"
      ],
      "metadata": {
        "colab": {
          "base_uri": "https://localhost:8080/"
        },
        "id": "6knqLmcBg40h",
        "outputId": "639a8e1f-777e-4065-9771-f74dd27d8388"
      },
      "execution_count": 38,
      "outputs": [
        {
          "output_type": "execute_result",
          "data": {
            "text/plain": [
              "array([[0.],\n",
              "       [1.],\n",
              "       [0.],\n",
              "       [0.]], dtype=float32)"
            ]
          },
          "metadata": {},
          "execution_count": 38
        }
      ]
    },
    {
      "cell_type": "code",
      "source": [
        "from sklearn.metrics import confusion_matrix\n",
        "conf_m = confusion_matrix(y_test,Y_pred)\n",
        "conf_m"
      ],
      "metadata": {
        "colab": {
          "base_uri": "https://localhost:8080/"
        },
        "id": "xLabQBedatZi",
        "outputId": "e3f8708b-aa1f-4998-a734-968275141d42"
      },
      "execution_count": 39,
      "outputs": [
        {
          "output_type": "execute_result",
          "data": {
            "text/plain": [
              "array([[949,   0],\n",
              "       [ 19, 147]])"
            ]
          },
          "metadata": {},
          "execution_count": 39
        }
      ]
    },
    {
      "cell_type": "code",
      "source": [
        "from sklearn.metrics import accuracy_score\n",
        "acc = accuracy_score(y_test,Y_pred)\n",
        "acc"
      ],
      "metadata": {
        "colab": {
          "base_uri": "https://localhost:8080/"
        },
        "id": "eqoLabamgRqV",
        "outputId": "8e21ce39-ab9b-420b-9688-6866a9b46e2a"
      },
      "execution_count": 40,
      "outputs": [
        {
          "output_type": "execute_result",
          "data": {
            "text/plain": [
              "0.9829596412556054"
            ]
          },
          "metadata": {},
          "execution_count": 40
        }
      ]
    },
    {
      "cell_type": "code",
      "source": [],
      "metadata": {
        "id": "1P6xcb_EhUTJ"
      },
      "execution_count": null,
      "outputs": []
    }
  ]
}